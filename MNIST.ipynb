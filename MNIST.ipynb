{
  "nbformat": 4,
  "nbformat_minor": 0,
  "metadata": {
    "colab": {
      "name": "MNIST.ipynb",
      "provenance": [],
      "collapsed_sections": []
    },
    "kernelspec": {
      "name": "python3",
      "display_name": "Python 3"
    },
    "accelerator": "GPU",
    "widgets": {
      "application/vnd.jupyter.widget-state+json": {
        "83ada066ea9047798c8ee48dedc4ca42": {
          "model_module": "@jupyter-widgets/controls",
          "model_name": "HBoxModel",
          "state": {
            "_view_name": "HBoxView",
            "_dom_classes": [],
            "_model_name": "HBoxModel",
            "_view_module": "@jupyter-widgets/controls",
            "_model_module_version": "1.5.0",
            "_view_count": null,
            "_view_module_version": "1.5.0",
            "box_style": "",
            "layout": "IPY_MODEL_57567b2395094779920a67a78cbce9bd",
            "_model_module": "@jupyter-widgets/controls",
            "children": [
              "IPY_MODEL_e3c17eabddbb45968c2a4bc69cde91aa",
              "IPY_MODEL_4288c406ad3e40889c5ca87b5bfae57c"
            ]
          }
        },
        "57567b2395094779920a67a78cbce9bd": {
          "model_module": "@jupyter-widgets/base",
          "model_name": "LayoutModel",
          "state": {
            "_view_name": "LayoutView",
            "grid_template_rows": null,
            "right": null,
            "justify_content": null,
            "_view_module": "@jupyter-widgets/base",
            "overflow": null,
            "_model_module_version": "1.2.0",
            "_view_count": null,
            "flex_flow": null,
            "width": null,
            "min_width": null,
            "border": null,
            "align_items": null,
            "bottom": null,
            "_model_module": "@jupyter-widgets/base",
            "top": null,
            "grid_column": null,
            "overflow_y": null,
            "overflow_x": null,
            "grid_auto_flow": null,
            "grid_area": null,
            "grid_template_columns": null,
            "flex": null,
            "_model_name": "LayoutModel",
            "justify_items": null,
            "grid_row": null,
            "max_height": null,
            "align_content": null,
            "visibility": null,
            "align_self": null,
            "height": null,
            "min_height": null,
            "padding": null,
            "grid_auto_rows": null,
            "grid_gap": null,
            "max_width": null,
            "order": null,
            "_view_module_version": "1.2.0",
            "grid_template_areas": null,
            "object_position": null,
            "object_fit": null,
            "grid_auto_columns": null,
            "margin": null,
            "display": null,
            "left": null
          }
        },
        "e3c17eabddbb45968c2a4bc69cde91aa": {
          "model_module": "@jupyter-widgets/controls",
          "model_name": "FloatProgressModel",
          "state": {
            "_view_name": "ProgressView",
            "style": "IPY_MODEL_7be1f1248f044d1ba9cfa5ad87871de1",
            "_dom_classes": [],
            "description": "",
            "_model_name": "FloatProgressModel",
            "bar_style": "success",
            "max": 1,
            "_view_module": "@jupyter-widgets/controls",
            "_model_module_version": "1.5.0",
            "value": 1,
            "_view_count": null,
            "_view_module_version": "1.5.0",
            "orientation": "horizontal",
            "min": 0,
            "description_tooltip": null,
            "_model_module": "@jupyter-widgets/controls",
            "layout": "IPY_MODEL_67eb68a6be194ff494891396eae89e83"
          }
        },
        "4288c406ad3e40889c5ca87b5bfae57c": {
          "model_module": "@jupyter-widgets/controls",
          "model_name": "HTMLModel",
          "state": {
            "_view_name": "HTMLView",
            "style": "IPY_MODEL_a5b8c509ec604036be549290933e521f",
            "_dom_classes": [],
            "description": "",
            "_model_name": "HTMLModel",
            "placeholder": "​",
            "_view_module": "@jupyter-widgets/controls",
            "_model_module_version": "1.5.0",
            "value": " 9920512/? [00:00&lt;00:00, 12331494.26it/s]",
            "_view_count": null,
            "_view_module_version": "1.5.0",
            "description_tooltip": null,
            "_model_module": "@jupyter-widgets/controls",
            "layout": "IPY_MODEL_ed1d37a4fa1346c3a941fc4d22a346e7"
          }
        },
        "7be1f1248f044d1ba9cfa5ad87871de1": {
          "model_module": "@jupyter-widgets/controls",
          "model_name": "ProgressStyleModel",
          "state": {
            "_view_name": "StyleView",
            "_model_name": "ProgressStyleModel",
            "description_width": "initial",
            "_view_module": "@jupyter-widgets/base",
            "_model_module_version": "1.5.0",
            "_view_count": null,
            "_view_module_version": "1.2.0",
            "bar_color": null,
            "_model_module": "@jupyter-widgets/controls"
          }
        },
        "67eb68a6be194ff494891396eae89e83": {
          "model_module": "@jupyter-widgets/base",
          "model_name": "LayoutModel",
          "state": {
            "_view_name": "LayoutView",
            "grid_template_rows": null,
            "right": null,
            "justify_content": null,
            "_view_module": "@jupyter-widgets/base",
            "overflow": null,
            "_model_module_version": "1.2.0",
            "_view_count": null,
            "flex_flow": null,
            "width": null,
            "min_width": null,
            "border": null,
            "align_items": null,
            "bottom": null,
            "_model_module": "@jupyter-widgets/base",
            "top": null,
            "grid_column": null,
            "overflow_y": null,
            "overflow_x": null,
            "grid_auto_flow": null,
            "grid_area": null,
            "grid_template_columns": null,
            "flex": null,
            "_model_name": "LayoutModel",
            "justify_items": null,
            "grid_row": null,
            "max_height": null,
            "align_content": null,
            "visibility": null,
            "align_self": null,
            "height": null,
            "min_height": null,
            "padding": null,
            "grid_auto_rows": null,
            "grid_gap": null,
            "max_width": null,
            "order": null,
            "_view_module_version": "1.2.0",
            "grid_template_areas": null,
            "object_position": null,
            "object_fit": null,
            "grid_auto_columns": null,
            "margin": null,
            "display": null,
            "left": null
          }
        },
        "a5b8c509ec604036be549290933e521f": {
          "model_module": "@jupyter-widgets/controls",
          "model_name": "DescriptionStyleModel",
          "state": {
            "_view_name": "StyleView",
            "_model_name": "DescriptionStyleModel",
            "description_width": "",
            "_view_module": "@jupyter-widgets/base",
            "_model_module_version": "1.5.0",
            "_view_count": null,
            "_view_module_version": "1.2.0",
            "_model_module": "@jupyter-widgets/controls"
          }
        },
        "ed1d37a4fa1346c3a941fc4d22a346e7": {
          "model_module": "@jupyter-widgets/base",
          "model_name": "LayoutModel",
          "state": {
            "_view_name": "LayoutView",
            "grid_template_rows": null,
            "right": null,
            "justify_content": null,
            "_view_module": "@jupyter-widgets/base",
            "overflow": null,
            "_model_module_version": "1.2.0",
            "_view_count": null,
            "flex_flow": null,
            "width": null,
            "min_width": null,
            "border": null,
            "align_items": null,
            "bottom": null,
            "_model_module": "@jupyter-widgets/base",
            "top": null,
            "grid_column": null,
            "overflow_y": null,
            "overflow_x": null,
            "grid_auto_flow": null,
            "grid_area": null,
            "grid_template_columns": null,
            "flex": null,
            "_model_name": "LayoutModel",
            "justify_items": null,
            "grid_row": null,
            "max_height": null,
            "align_content": null,
            "visibility": null,
            "align_self": null,
            "height": null,
            "min_height": null,
            "padding": null,
            "grid_auto_rows": null,
            "grid_gap": null,
            "max_width": null,
            "order": null,
            "_view_module_version": "1.2.0",
            "grid_template_areas": null,
            "object_position": null,
            "object_fit": null,
            "grid_auto_columns": null,
            "margin": null,
            "display": null,
            "left": null
          }
        },
        "0cd0989f35484ec99a7fbb431ada0786": {
          "model_module": "@jupyter-widgets/controls",
          "model_name": "HBoxModel",
          "state": {
            "_view_name": "HBoxView",
            "_dom_classes": [],
            "_model_name": "HBoxModel",
            "_view_module": "@jupyter-widgets/controls",
            "_model_module_version": "1.5.0",
            "_view_count": null,
            "_view_module_version": "1.5.0",
            "box_style": "",
            "layout": "IPY_MODEL_a72dd55d6ab740acaa5eb3511ad6f28d",
            "_model_module": "@jupyter-widgets/controls",
            "children": [
              "IPY_MODEL_8e37648596324ad1a8392c0715fe24c1",
              "IPY_MODEL_5843450366c04269828584221de00ebf"
            ]
          }
        },
        "a72dd55d6ab740acaa5eb3511ad6f28d": {
          "model_module": "@jupyter-widgets/base",
          "model_name": "LayoutModel",
          "state": {
            "_view_name": "LayoutView",
            "grid_template_rows": null,
            "right": null,
            "justify_content": null,
            "_view_module": "@jupyter-widgets/base",
            "overflow": null,
            "_model_module_version": "1.2.0",
            "_view_count": null,
            "flex_flow": null,
            "width": null,
            "min_width": null,
            "border": null,
            "align_items": null,
            "bottom": null,
            "_model_module": "@jupyter-widgets/base",
            "top": null,
            "grid_column": null,
            "overflow_y": null,
            "overflow_x": null,
            "grid_auto_flow": null,
            "grid_area": null,
            "grid_template_columns": null,
            "flex": null,
            "_model_name": "LayoutModel",
            "justify_items": null,
            "grid_row": null,
            "max_height": null,
            "align_content": null,
            "visibility": null,
            "align_self": null,
            "height": null,
            "min_height": null,
            "padding": null,
            "grid_auto_rows": null,
            "grid_gap": null,
            "max_width": null,
            "order": null,
            "_view_module_version": "1.2.0",
            "grid_template_areas": null,
            "object_position": null,
            "object_fit": null,
            "grid_auto_columns": null,
            "margin": null,
            "display": null,
            "left": null
          }
        },
        "8e37648596324ad1a8392c0715fe24c1": {
          "model_module": "@jupyter-widgets/controls",
          "model_name": "FloatProgressModel",
          "state": {
            "_view_name": "ProgressView",
            "style": "IPY_MODEL_162d93a2ab90417c92049c510e46783d",
            "_dom_classes": [],
            "description": "  0%",
            "_model_name": "FloatProgressModel",
            "bar_style": "info",
            "max": 1,
            "_view_module": "@jupyter-widgets/controls",
            "_model_module_version": "1.5.0",
            "value": 0,
            "_view_count": null,
            "_view_module_version": "1.5.0",
            "orientation": "horizontal",
            "min": 0,
            "description_tooltip": null,
            "_model_module": "@jupyter-widgets/controls",
            "layout": "IPY_MODEL_c40f68d27ceb4f60acc2dc095ad1dc59"
          }
        },
        "5843450366c04269828584221de00ebf": {
          "model_module": "@jupyter-widgets/controls",
          "model_name": "HTMLModel",
          "state": {
            "_view_name": "HTMLView",
            "style": "IPY_MODEL_98adc757bd7549a19f7f4a4a92b7ffed",
            "_dom_classes": [],
            "description": "",
            "_model_name": "HTMLModel",
            "placeholder": "​",
            "_view_module": "@jupyter-widgets/controls",
            "_model_module_version": "1.5.0",
            "value": " 0/28881 [00:00&lt;?, ?it/s]",
            "_view_count": null,
            "_view_module_version": "1.5.0",
            "description_tooltip": null,
            "_model_module": "@jupyter-widgets/controls",
            "layout": "IPY_MODEL_4e595d23b958476c9bce5bc5bbc14f08"
          }
        },
        "162d93a2ab90417c92049c510e46783d": {
          "model_module": "@jupyter-widgets/controls",
          "model_name": "ProgressStyleModel",
          "state": {
            "_view_name": "StyleView",
            "_model_name": "ProgressStyleModel",
            "description_width": "initial",
            "_view_module": "@jupyter-widgets/base",
            "_model_module_version": "1.5.0",
            "_view_count": null,
            "_view_module_version": "1.2.0",
            "bar_color": null,
            "_model_module": "@jupyter-widgets/controls"
          }
        },
        "c40f68d27ceb4f60acc2dc095ad1dc59": {
          "model_module": "@jupyter-widgets/base",
          "model_name": "LayoutModel",
          "state": {
            "_view_name": "LayoutView",
            "grid_template_rows": null,
            "right": null,
            "justify_content": null,
            "_view_module": "@jupyter-widgets/base",
            "overflow": null,
            "_model_module_version": "1.2.0",
            "_view_count": null,
            "flex_flow": null,
            "width": null,
            "min_width": null,
            "border": null,
            "align_items": null,
            "bottom": null,
            "_model_module": "@jupyter-widgets/base",
            "top": null,
            "grid_column": null,
            "overflow_y": null,
            "overflow_x": null,
            "grid_auto_flow": null,
            "grid_area": null,
            "grid_template_columns": null,
            "flex": null,
            "_model_name": "LayoutModel",
            "justify_items": null,
            "grid_row": null,
            "max_height": null,
            "align_content": null,
            "visibility": null,
            "align_self": null,
            "height": null,
            "min_height": null,
            "padding": null,
            "grid_auto_rows": null,
            "grid_gap": null,
            "max_width": null,
            "order": null,
            "_view_module_version": "1.2.0",
            "grid_template_areas": null,
            "object_position": null,
            "object_fit": null,
            "grid_auto_columns": null,
            "margin": null,
            "display": null,
            "left": null
          }
        },
        "98adc757bd7549a19f7f4a4a92b7ffed": {
          "model_module": "@jupyter-widgets/controls",
          "model_name": "DescriptionStyleModel",
          "state": {
            "_view_name": "StyleView",
            "_model_name": "DescriptionStyleModel",
            "description_width": "",
            "_view_module": "@jupyter-widgets/base",
            "_model_module_version": "1.5.0",
            "_view_count": null,
            "_view_module_version": "1.2.0",
            "_model_module": "@jupyter-widgets/controls"
          }
        },
        "4e595d23b958476c9bce5bc5bbc14f08": {
          "model_module": "@jupyter-widgets/base",
          "model_name": "LayoutModel",
          "state": {
            "_view_name": "LayoutView",
            "grid_template_rows": null,
            "right": null,
            "justify_content": null,
            "_view_module": "@jupyter-widgets/base",
            "overflow": null,
            "_model_module_version": "1.2.0",
            "_view_count": null,
            "flex_flow": null,
            "width": null,
            "min_width": null,
            "border": null,
            "align_items": null,
            "bottom": null,
            "_model_module": "@jupyter-widgets/base",
            "top": null,
            "grid_column": null,
            "overflow_y": null,
            "overflow_x": null,
            "grid_auto_flow": null,
            "grid_area": null,
            "grid_template_columns": null,
            "flex": null,
            "_model_name": "LayoutModel",
            "justify_items": null,
            "grid_row": null,
            "max_height": null,
            "align_content": null,
            "visibility": null,
            "align_self": null,
            "height": null,
            "min_height": null,
            "padding": null,
            "grid_auto_rows": null,
            "grid_gap": null,
            "max_width": null,
            "order": null,
            "_view_module_version": "1.2.0",
            "grid_template_areas": null,
            "object_position": null,
            "object_fit": null,
            "grid_auto_columns": null,
            "margin": null,
            "display": null,
            "left": null
          }
        },
        "44d8e3c4e76d4fb78c114d67bc3f1278": {
          "model_module": "@jupyter-widgets/controls",
          "model_name": "HBoxModel",
          "state": {
            "_view_name": "HBoxView",
            "_dom_classes": [],
            "_model_name": "HBoxModel",
            "_view_module": "@jupyter-widgets/controls",
            "_model_module_version": "1.5.0",
            "_view_count": null,
            "_view_module_version": "1.5.0",
            "box_style": "",
            "layout": "IPY_MODEL_d9748a9b73a94214938e09ad68b59c97",
            "_model_module": "@jupyter-widgets/controls",
            "children": [
              "IPY_MODEL_6bc8317bd950471cb5a6e339db003200",
              "IPY_MODEL_5654fc97e5dc42ed8979f853c9cdb05b"
            ]
          }
        },
        "d9748a9b73a94214938e09ad68b59c97": {
          "model_module": "@jupyter-widgets/base",
          "model_name": "LayoutModel",
          "state": {
            "_view_name": "LayoutView",
            "grid_template_rows": null,
            "right": null,
            "justify_content": null,
            "_view_module": "@jupyter-widgets/base",
            "overflow": null,
            "_model_module_version": "1.2.0",
            "_view_count": null,
            "flex_flow": null,
            "width": null,
            "min_width": null,
            "border": null,
            "align_items": null,
            "bottom": null,
            "_model_module": "@jupyter-widgets/base",
            "top": null,
            "grid_column": null,
            "overflow_y": null,
            "overflow_x": null,
            "grid_auto_flow": null,
            "grid_area": null,
            "grid_template_columns": null,
            "flex": null,
            "_model_name": "LayoutModel",
            "justify_items": null,
            "grid_row": null,
            "max_height": null,
            "align_content": null,
            "visibility": null,
            "align_self": null,
            "height": null,
            "min_height": null,
            "padding": null,
            "grid_auto_rows": null,
            "grid_gap": null,
            "max_width": null,
            "order": null,
            "_view_module_version": "1.2.0",
            "grid_template_areas": null,
            "object_position": null,
            "object_fit": null,
            "grid_auto_columns": null,
            "margin": null,
            "display": null,
            "left": null
          }
        },
        "6bc8317bd950471cb5a6e339db003200": {
          "model_module": "@jupyter-widgets/controls",
          "model_name": "FloatProgressModel",
          "state": {
            "_view_name": "ProgressView",
            "style": "IPY_MODEL_75d1cb8fe63a4e1d9c303dae3e9f7d56",
            "_dom_classes": [],
            "description": "",
            "_model_name": "FloatProgressModel",
            "bar_style": "success",
            "max": 1,
            "_view_module": "@jupyter-widgets/controls",
            "_model_module_version": "1.5.0",
            "value": 1,
            "_view_count": null,
            "_view_module_version": "1.5.0",
            "orientation": "horizontal",
            "min": 0,
            "description_tooltip": null,
            "_model_module": "@jupyter-widgets/controls",
            "layout": "IPY_MODEL_ce70a0dc49ab4a6d805a8c91091b6794"
          }
        },
        "5654fc97e5dc42ed8979f853c9cdb05b": {
          "model_module": "@jupyter-widgets/controls",
          "model_name": "HTMLModel",
          "state": {
            "_view_name": "HTMLView",
            "style": "IPY_MODEL_5ae5f72ef2bf4368a695a015bd814168",
            "_dom_classes": [],
            "description": "",
            "_model_name": "HTMLModel",
            "placeholder": "​",
            "_view_module": "@jupyter-widgets/controls",
            "_model_module_version": "1.5.0",
            "value": " 1654784/? [00:05&lt;00:00, 280362.56it/s]",
            "_view_count": null,
            "_view_module_version": "1.5.0",
            "description_tooltip": null,
            "_model_module": "@jupyter-widgets/controls",
            "layout": "IPY_MODEL_474309f8a2164cf2a4a6dd9c795618fa"
          }
        },
        "75d1cb8fe63a4e1d9c303dae3e9f7d56": {
          "model_module": "@jupyter-widgets/controls",
          "model_name": "ProgressStyleModel",
          "state": {
            "_view_name": "StyleView",
            "_model_name": "ProgressStyleModel",
            "description_width": "initial",
            "_view_module": "@jupyter-widgets/base",
            "_model_module_version": "1.5.0",
            "_view_count": null,
            "_view_module_version": "1.2.0",
            "bar_color": null,
            "_model_module": "@jupyter-widgets/controls"
          }
        },
        "ce70a0dc49ab4a6d805a8c91091b6794": {
          "model_module": "@jupyter-widgets/base",
          "model_name": "LayoutModel",
          "state": {
            "_view_name": "LayoutView",
            "grid_template_rows": null,
            "right": null,
            "justify_content": null,
            "_view_module": "@jupyter-widgets/base",
            "overflow": null,
            "_model_module_version": "1.2.0",
            "_view_count": null,
            "flex_flow": null,
            "width": null,
            "min_width": null,
            "border": null,
            "align_items": null,
            "bottom": null,
            "_model_module": "@jupyter-widgets/base",
            "top": null,
            "grid_column": null,
            "overflow_y": null,
            "overflow_x": null,
            "grid_auto_flow": null,
            "grid_area": null,
            "grid_template_columns": null,
            "flex": null,
            "_model_name": "LayoutModel",
            "justify_items": null,
            "grid_row": null,
            "max_height": null,
            "align_content": null,
            "visibility": null,
            "align_self": null,
            "height": null,
            "min_height": null,
            "padding": null,
            "grid_auto_rows": null,
            "grid_gap": null,
            "max_width": null,
            "order": null,
            "_view_module_version": "1.2.0",
            "grid_template_areas": null,
            "object_position": null,
            "object_fit": null,
            "grid_auto_columns": null,
            "margin": null,
            "display": null,
            "left": null
          }
        },
        "5ae5f72ef2bf4368a695a015bd814168": {
          "model_module": "@jupyter-widgets/controls",
          "model_name": "DescriptionStyleModel",
          "state": {
            "_view_name": "StyleView",
            "_model_name": "DescriptionStyleModel",
            "description_width": "",
            "_view_module": "@jupyter-widgets/base",
            "_model_module_version": "1.5.0",
            "_view_count": null,
            "_view_module_version": "1.2.0",
            "_model_module": "@jupyter-widgets/controls"
          }
        },
        "474309f8a2164cf2a4a6dd9c795618fa": {
          "model_module": "@jupyter-widgets/base",
          "model_name": "LayoutModel",
          "state": {
            "_view_name": "LayoutView",
            "grid_template_rows": null,
            "right": null,
            "justify_content": null,
            "_view_module": "@jupyter-widgets/base",
            "overflow": null,
            "_model_module_version": "1.2.0",
            "_view_count": null,
            "flex_flow": null,
            "width": null,
            "min_width": null,
            "border": null,
            "align_items": null,
            "bottom": null,
            "_model_module": "@jupyter-widgets/base",
            "top": null,
            "grid_column": null,
            "overflow_y": null,
            "overflow_x": null,
            "grid_auto_flow": null,
            "grid_area": null,
            "grid_template_columns": null,
            "flex": null,
            "_model_name": "LayoutModel",
            "justify_items": null,
            "grid_row": null,
            "max_height": null,
            "align_content": null,
            "visibility": null,
            "align_self": null,
            "height": null,
            "min_height": null,
            "padding": null,
            "grid_auto_rows": null,
            "grid_gap": null,
            "max_width": null,
            "order": null,
            "_view_module_version": "1.2.0",
            "grid_template_areas": null,
            "object_position": null,
            "object_fit": null,
            "grid_auto_columns": null,
            "margin": null,
            "display": null,
            "left": null
          }
        },
        "cd6e71153cec436c812adf3b65ac602d": {
          "model_module": "@jupyter-widgets/controls",
          "model_name": "HBoxModel",
          "state": {
            "_view_name": "HBoxView",
            "_dom_classes": [],
            "_model_name": "HBoxModel",
            "_view_module": "@jupyter-widgets/controls",
            "_model_module_version": "1.5.0",
            "_view_count": null,
            "_view_module_version": "1.5.0",
            "box_style": "",
            "layout": "IPY_MODEL_33cc2d962a6e4d38ae9282edbf5a6d74",
            "_model_module": "@jupyter-widgets/controls",
            "children": [
              "IPY_MODEL_488423165a704b8dab761604621bb75d",
              "IPY_MODEL_e7648a0745254274a5e391222c2b7ab3"
            ]
          }
        },
        "33cc2d962a6e4d38ae9282edbf5a6d74": {
          "model_module": "@jupyter-widgets/base",
          "model_name": "LayoutModel",
          "state": {
            "_view_name": "LayoutView",
            "grid_template_rows": null,
            "right": null,
            "justify_content": null,
            "_view_module": "@jupyter-widgets/base",
            "overflow": null,
            "_model_module_version": "1.2.0",
            "_view_count": null,
            "flex_flow": null,
            "width": null,
            "min_width": null,
            "border": null,
            "align_items": null,
            "bottom": null,
            "_model_module": "@jupyter-widgets/base",
            "top": null,
            "grid_column": null,
            "overflow_y": null,
            "overflow_x": null,
            "grid_auto_flow": null,
            "grid_area": null,
            "grid_template_columns": null,
            "flex": null,
            "_model_name": "LayoutModel",
            "justify_items": null,
            "grid_row": null,
            "max_height": null,
            "align_content": null,
            "visibility": null,
            "align_self": null,
            "height": null,
            "min_height": null,
            "padding": null,
            "grid_auto_rows": null,
            "grid_gap": null,
            "max_width": null,
            "order": null,
            "_view_module_version": "1.2.0",
            "grid_template_areas": null,
            "object_position": null,
            "object_fit": null,
            "grid_auto_columns": null,
            "margin": null,
            "display": null,
            "left": null
          }
        },
        "488423165a704b8dab761604621bb75d": {
          "model_module": "@jupyter-widgets/controls",
          "model_name": "FloatProgressModel",
          "state": {
            "_view_name": "ProgressView",
            "style": "IPY_MODEL_96e2e90a50a5428cbd1fb5fa1fb3f880",
            "_dom_classes": [],
            "description": "",
            "_model_name": "FloatProgressModel",
            "bar_style": "success",
            "max": 1,
            "_view_module": "@jupyter-widgets/controls",
            "_model_module_version": "1.5.0",
            "value": 1,
            "_view_count": null,
            "_view_module_version": "1.5.0",
            "orientation": "horizontal",
            "min": 0,
            "description_tooltip": null,
            "_model_module": "@jupyter-widgets/controls",
            "layout": "IPY_MODEL_f2a67f2b7c734e5ba9d1ddcfea88966e"
          }
        },
        "e7648a0745254274a5e391222c2b7ab3": {
          "model_module": "@jupyter-widgets/controls",
          "model_name": "HTMLModel",
          "state": {
            "_view_name": "HTMLView",
            "style": "IPY_MODEL_361808834c8342f585d7a6baaa78ddb7",
            "_dom_classes": [],
            "description": "",
            "_model_name": "HTMLModel",
            "placeholder": "​",
            "_view_module": "@jupyter-widgets/controls",
            "_model_module_version": "1.5.0",
            "value": " 8192/? [00:05&lt;00:00, 1477.72it/s]",
            "_view_count": null,
            "_view_module_version": "1.5.0",
            "description_tooltip": null,
            "_model_module": "@jupyter-widgets/controls",
            "layout": "IPY_MODEL_48b6effd5a0c4fa093204a42726d5838"
          }
        },
        "96e2e90a50a5428cbd1fb5fa1fb3f880": {
          "model_module": "@jupyter-widgets/controls",
          "model_name": "ProgressStyleModel",
          "state": {
            "_view_name": "StyleView",
            "_model_name": "ProgressStyleModel",
            "description_width": "initial",
            "_view_module": "@jupyter-widgets/base",
            "_model_module_version": "1.5.0",
            "_view_count": null,
            "_view_module_version": "1.2.0",
            "bar_color": null,
            "_model_module": "@jupyter-widgets/controls"
          }
        },
        "f2a67f2b7c734e5ba9d1ddcfea88966e": {
          "model_module": "@jupyter-widgets/base",
          "model_name": "LayoutModel",
          "state": {
            "_view_name": "LayoutView",
            "grid_template_rows": null,
            "right": null,
            "justify_content": null,
            "_view_module": "@jupyter-widgets/base",
            "overflow": null,
            "_model_module_version": "1.2.0",
            "_view_count": null,
            "flex_flow": null,
            "width": null,
            "min_width": null,
            "border": null,
            "align_items": null,
            "bottom": null,
            "_model_module": "@jupyter-widgets/base",
            "top": null,
            "grid_column": null,
            "overflow_y": null,
            "overflow_x": null,
            "grid_auto_flow": null,
            "grid_area": null,
            "grid_template_columns": null,
            "flex": null,
            "_model_name": "LayoutModel",
            "justify_items": null,
            "grid_row": null,
            "max_height": null,
            "align_content": null,
            "visibility": null,
            "align_self": null,
            "height": null,
            "min_height": null,
            "padding": null,
            "grid_auto_rows": null,
            "grid_gap": null,
            "max_width": null,
            "order": null,
            "_view_module_version": "1.2.0",
            "grid_template_areas": null,
            "object_position": null,
            "object_fit": null,
            "grid_auto_columns": null,
            "margin": null,
            "display": null,
            "left": null
          }
        },
        "361808834c8342f585d7a6baaa78ddb7": {
          "model_module": "@jupyter-widgets/controls",
          "model_name": "DescriptionStyleModel",
          "state": {
            "_view_name": "StyleView",
            "_model_name": "DescriptionStyleModel",
            "description_width": "",
            "_view_module": "@jupyter-widgets/base",
            "_model_module_version": "1.5.0",
            "_view_count": null,
            "_view_module_version": "1.2.0",
            "_model_module": "@jupyter-widgets/controls"
          }
        },
        "48b6effd5a0c4fa093204a42726d5838": {
          "model_module": "@jupyter-widgets/base",
          "model_name": "LayoutModel",
          "state": {
            "_view_name": "LayoutView",
            "grid_template_rows": null,
            "right": null,
            "justify_content": null,
            "_view_module": "@jupyter-widgets/base",
            "overflow": null,
            "_model_module_version": "1.2.0",
            "_view_count": null,
            "flex_flow": null,
            "width": null,
            "min_width": null,
            "border": null,
            "align_items": null,
            "bottom": null,
            "_model_module": "@jupyter-widgets/base",
            "top": null,
            "grid_column": null,
            "overflow_y": null,
            "overflow_x": null,
            "grid_auto_flow": null,
            "grid_area": null,
            "grid_template_columns": null,
            "flex": null,
            "_model_name": "LayoutModel",
            "justify_items": null,
            "grid_row": null,
            "max_height": null,
            "align_content": null,
            "visibility": null,
            "align_self": null,
            "height": null,
            "min_height": null,
            "padding": null,
            "grid_auto_rows": null,
            "grid_gap": null,
            "max_width": null,
            "order": null,
            "_view_module_version": "1.2.0",
            "grid_template_areas": null,
            "object_position": null,
            "object_fit": null,
            "grid_auto_columns": null,
            "margin": null,
            "display": null,
            "left": null
          }
        }
      }
    }
  },
  "cells": [
    {
      "cell_type": "markdown",
      "metadata": {
        "id": "MHH8oUjYf7KK",
        "colab_type": "text"
      },
      "source": [
        "# **Initial Imports**"
      ]
    },
    {
      "cell_type": "code",
      "metadata": {
        "id": "696nSSY7IOmz",
        "colab_type": "code",
        "colab": {}
      },
      "source": [
        "import numpy as np\n",
        "import pandas as pd\n",
        "import torch\n",
        "import torch.nn as nn\n",
        "import torchvision\n",
        "import torchvision.transforms as transforms\n",
        "import torch.nn.functional as F\n",
        "import torch.optim as optim"
      ],
      "execution_count": 5,
      "outputs": []
    },
    {
      "cell_type": "code",
      "metadata": {
        "id": "a4EB8EyGXTko",
        "colab_type": "code",
        "colab": {}
      },
      "source": [
        "from collections import OrderedDict\n",
        "from collections import namedtuple\n",
        "from itertools import product\n",
        "\n",
        "import matplotlib.pyplot as plt\n",
        "torch.set_printoptions(linewidth=120)\n",
        "\n",
        "from os.path import exists\n",
        "\n",
        "from IPython.display import clear_output\n",
        "from google.colab import output\n"
      ],
      "execution_count": 6,
      "outputs": []
    },
    {
      "cell_type": "code",
      "metadata": {
        "id": "kt0jqz9CYTIl",
        "colab_type": "code",
        "colab": {
          "base_uri": "https://localhost:8080/",
          "height": 121
        },
        "outputId": "3def57f7-85df-4391-aba6-c71868291df0"
      },
      "source": [
        "from google.colab import drive\n",
        "drive.mount('/content/gdrive')\n",
        "root_path = 'gdrive/My Drive/mnist_pytorch_folder/'"
      ],
      "execution_count": 47,
      "outputs": [
        {
          "output_type": "stream",
          "text": [
            "Go to this URL in a browser: https://accounts.google.com/o/oauth2/auth?client_id=947318989803-6bn6qk8qdgf4n4g3pfee6491hc0brc4i.apps.googleusercontent.com&redirect_uri=urn%3aietf%3awg%3aoauth%3a2.0%3aoob&response_type=code&scope=email%20https%3a%2f%2fwww.googleapis.com%2fauth%2fdocs.test%20https%3a%2f%2fwww.googleapis.com%2fauth%2fdrive%20https%3a%2f%2fwww.googleapis.com%2fauth%2fdrive.photos.readonly%20https%3a%2f%2fwww.googleapis.com%2fauth%2fpeopleapi.readonly\n",
            "\n",
            "Enter your authorization code:\n",
            "··········\n",
            "Mounted at /content/gdrive\n"
          ],
          "name": "stdout"
        }
      ]
    },
    {
      "cell_type": "code",
      "metadata": {
        "id": "VtGwPT87SXOg",
        "colab_type": "code",
        "colab": {
          "base_uri": "https://localhost:8080/",
          "height": 252
        },
        "outputId": "1bb597ab-5d09-4b5a-b4ea-4e7e62f0e8b6"
      },
      "source": [
        "!pip install scikit-plot\n",
        "from sklearn.metrics import confusion_matrix\n",
        "import scikitplot as skplt"
      ],
      "execution_count": 106,
      "outputs": [
        {
          "output_type": "stream",
          "text": [
            "Collecting scikit-plot\n",
            "  Downloading https://files.pythonhosted.org/packages/7c/47/32520e259340c140a4ad27c1b97050dd3254fdc517b1d59974d47037510e/scikit_plot-0.3.7-py3-none-any.whl\n",
            "Requirement already satisfied: scikit-learn>=0.18 in /usr/local/lib/python3.6/dist-packages (from scikit-plot) (0.22.2.post1)\n",
            "Requirement already satisfied: scipy>=0.9 in /usr/local/lib/python3.6/dist-packages (from scikit-plot) (1.4.1)\n",
            "Requirement already satisfied: matplotlib>=1.4.0 in /usr/local/lib/python3.6/dist-packages (from scikit-plot) (3.2.1)\n",
            "Requirement already satisfied: joblib>=0.10 in /usr/local/lib/python3.6/dist-packages (from scikit-plot) (0.15.1)\n",
            "Requirement already satisfied: numpy>=1.11.0 in /usr/local/lib/python3.6/dist-packages (from scikit-learn>=0.18->scikit-plot) (1.18.5)\n",
            "Requirement already satisfied: pyparsing!=2.0.4,!=2.1.2,!=2.1.6,>=2.0.1 in /usr/local/lib/python3.6/dist-packages (from matplotlib>=1.4.0->scikit-plot) (2.4.7)\n",
            "Requirement already satisfied: kiwisolver>=1.0.1 in /usr/local/lib/python3.6/dist-packages (from matplotlib>=1.4.0->scikit-plot) (1.2.0)\n",
            "Requirement already satisfied: python-dateutil>=2.1 in /usr/local/lib/python3.6/dist-packages (from matplotlib>=1.4.0->scikit-plot) (2.8.1)\n",
            "Requirement already satisfied: cycler>=0.10 in /usr/local/lib/python3.6/dist-packages (from matplotlib>=1.4.0->scikit-plot) (0.10.0)\n",
            "Requirement already satisfied: six>=1.5 in /usr/local/lib/python3.6/dist-packages (from python-dateutil>=2.1->matplotlib>=1.4.0->scikit-plot) (1.12.0)\n",
            "Installing collected packages: scikit-plot\n",
            "Successfully installed scikit-plot-0.3.7\n"
          ],
          "name": "stdout"
        }
      ]
    },
    {
      "cell_type": "markdown",
      "metadata": {
        "id": "1LeO1kUAfp9z",
        "colab_type": "text"
      },
      "source": [
        "# **Downloading Dataset and creating Data_loaders**"
      ]
    },
    {
      "cell_type": "code",
      "metadata": {
        "id": "AK_tI2ORbcss",
        "colab_type": "code",
        "colab": {}
      },
      "source": [
        "train_set=torchvision.datasets.MNIST( transform=transforms.Compose([transforms.ToTensor()]),\n",
        "                                     download=True,\n",
        "                                     root='.data/MNIST',)"
      ],
      "execution_count": 13,
      "outputs": []
    },
    {
      "cell_type": "code",
      "metadata": {
        "id": "F453w99sRPfl",
        "colab_type": "code",
        "colab": {}
      },
      "source": [
        "train_set1=torchvision.datasets.MNIST( transform=transforms.Compose([transforms.ToTensor()]),\n",
        "                                     download=True,\n",
        "                                     root='.data/MNIST',)\n",
        "## this dataset is used later to get accuracy on trained dataset"
      ],
      "execution_count": 96,
      "outputs": []
    },
    {
      "cell_type": "code",
      "metadata": {
        "id": "GgMNAywOcfXy",
        "colab_type": "code",
        "colab": {
          "base_uri": "https://localhost:8080/",
          "height": 151
        },
        "outputId": "7c322c59-5bf9-463d-864b-ca325cc2540a"
      },
      "source": [
        "print(train_set)"
      ],
      "execution_count": 14,
      "outputs": [
        {
          "output_type": "stream",
          "text": [
            "Dataset MNIST\n",
            "    Number of datapoints: 60000\n",
            "    Root location: .data/MNIST\n",
            "    Split: Train\n",
            "    StandardTransform\n",
            "Transform: Compose(\n",
            "               ToTensor()\n",
            "           )\n"
          ],
          "name": "stdout"
        }
      ]
    },
    {
      "cell_type": "code",
      "metadata": {
        "id": "ZbKGMQG15oIw",
        "colab_type": "code",
        "colab": {
          "base_uri": "https://localhost:8080/",
          "height": 101
        },
        "outputId": "928a03c6-572f-4c09-8aaf-0215bf18da5a"
      },
      "source": [
        "sample=next(iter(train_set))\n",
        "print(len(sample))\n",
        "print(type(sample))\n",
        "image=sample[0]\n",
        "label=sample[1]\n",
        "print(image.shape)\n",
        "print(type(image))\n",
        "print(type(label))"
      ],
      "execution_count": 16,
      "outputs": [
        {
          "output_type": "stream",
          "text": [
            "2\n",
            "<class 'tuple'>\n",
            "torch.Size([1, 28, 28])\n",
            "<class 'torch.Tensor'>\n",
            "<class 'int'>\n"
          ],
          "name": "stdout"
        }
      ]
    },
    {
      "cell_type": "code",
      "metadata": {
        "id": "wIAxaC84cn-7",
        "colab_type": "code",
        "colab": {}
      },
      "source": [
        "train_set, val_set = torch.utils.data.random_split(train_set, [50000, 10000])\n"
      ],
      "execution_count": 17,
      "outputs": []
    },
    {
      "cell_type": "code",
      "metadata": {
        "id": "BwAiHk5xfMEi",
        "colab_type": "code",
        "colab": {
          "base_uri": "https://localhost:8080/",
          "height": 50
        },
        "outputId": "d936aa53-05f1-428a-cd34-d783d71ea020"
      },
      "source": [
        "print(train_set)\n",
        "print(val_set)"
      ],
      "execution_count": 18,
      "outputs": [
        {
          "output_type": "stream",
          "text": [
            "<torch.utils.data.dataset.Subset object at 0x7fc127c09518>\n",
            "<torch.utils.data.dataset.Subset object at 0x7fc127c09550>\n"
          ],
          "name": "stdout"
        }
      ]
    },
    {
      "cell_type": "code",
      "metadata": {
        "id": "FJQduTkCdpDz",
        "colab_type": "code",
        "colab": {}
      },
      "source": [
        "train_loader=torch.utils.data.DataLoader(train_set,batch_size=100,shuffle=True)\n",
        "val_loader=torch.utils.data.DataLoader(val_set,batch_size=100)\n"
      ],
      "execution_count": 19,
      "outputs": []
    },
    {
      "cell_type": "code",
      "metadata": {
        "id": "PTvAQGgG8JsL",
        "colab_type": "code",
        "colab": {
          "base_uri": "https://localhost:8080/",
          "height": 84
        },
        "outputId": "41ba64c9-b956-41d4-ee71-907e5724d752"
      },
      "source": [
        "batch=next(iter(train_loader))\n",
        "print(len(batch))\n",
        "print(type(batch))\n",
        "images,labels=batch\n",
        "print(images.shape)\n",
        "print(labels.shape)"
      ],
      "execution_count": 31,
      "outputs": [
        {
          "output_type": "stream",
          "text": [
            "2\n",
            "<class 'list'>\n",
            "torch.Size([100, 1, 28, 28])\n",
            "torch.Size([100])\n"
          ],
          "name": "stdout"
        }
      ]
    },
    {
      "cell_type": "code",
      "metadata": {
        "id": "_WnLlrl8eSS4",
        "colab_type": "code",
        "colab": {
          "base_uri": "https://localhost:8080/",
          "height": 50
        },
        "outputId": "a488d830-fc6d-4baa-d9b9-900931cdefd9"
      },
      "source": [
        "print(train_loader)\n",
        "print(val_loader)"
      ],
      "execution_count": 20,
      "outputs": [
        {
          "output_type": "stream",
          "text": [
            "<torch.utils.data.dataloader.DataLoader object at 0x7fc127c096a0>\n",
            "<torch.utils.data.dataloader.DataLoader object at 0x7fc127c3ca20>\n"
          ],
          "name": "stdout"
        }
      ]
    },
    {
      "cell_type": "markdown",
      "metadata": {
        "id": "VpZLCqj-fh_x",
        "colab_type": "text"
      },
      "source": [
        "# **Creating Model Architecture**"
      ]
    },
    {
      "cell_type": "code",
      "metadata": {
        "id": "QQUTABB_eaz-",
        "colab_type": "code",
        "colab": {}
      },
      "source": [
        "class ModelArchi(nn.Module):\n",
        "  def __init__(self):\n",
        "    super().__init__()\n",
        "    self.conv1=nn.Conv2d(in_channels=1,out_channels=6,kernel_size=5)\n",
        "    self.conv2=nn.Conv2d(in_channels=6,out_channels=12,kernel_size=5)\n",
        "    self.lin1=nn.Linear(in_features=192,out_features=120)\n",
        "    self.lin2=nn.Linear(in_features=120,out_features=60)\n",
        "    self.final=nn.Linear(in_features=60,out_features=10)\n",
        "\n",
        "  def forward(self,t):\n",
        "    t=self.conv1(t)\n",
        "    t=F.relu(t)\n",
        "    t=F.max_pool2d(t,kernel_size=2,stride=2)\n",
        "    t=self.conv2(t)\n",
        "    t=F.relu(t)\n",
        "    t=F.max_pool2d(t,kernel_size=2,stride=2)\n",
        "    t=t.reshape(-1,12*4*4)\n",
        "    t=self.lin1(t)\n",
        "    t=F.relu(t)\n",
        "    t=self.lin2(t)\n",
        "    t=F.relu(t)\n",
        "    t=self.final(t)\n",
        "    return t\n"
      ],
      "execution_count": 32,
      "outputs": []
    },
    {
      "cell_type": "code",
      "metadata": {
        "id": "rhH02kbGBlwy",
        "colab_type": "code",
        "colab": {}
      },
      "source": [
        "def get_number_correct(prediction,labels):\n",
        "  return prediction.to('cuda').argmax(dim=1).eq(labels.to('cuda')).sum().item()"
      ],
      "execution_count": 42,
      "outputs": []
    },
    {
      "cell_type": "code",
      "metadata": {
        "id": "Gg2pBSUjlaC0",
        "colab_type": "code",
        "colab": {
          "base_uri": "https://localhost:8080/",
          "height": 134
        },
        "outputId": "cc93e3d7-a956-44b1-a4d0-6ce70268cbaf"
      },
      "source": [
        "model1=ModelArchi()\n",
        "print(model1)"
      ],
      "execution_count": 33,
      "outputs": [
        {
          "output_type": "stream",
          "text": [
            "ModelArchi(\n",
            "  (conv1): Conv2d(1, 6, kernel_size=(5, 5), stride=(1, 1))\n",
            "  (conv2): Conv2d(6, 12, kernel_size=(5, 5), stride=(1, 1))\n",
            "  (lin1): Linear(in_features=192, out_features=120, bias=True)\n",
            "  (lin2): Linear(in_features=120, out_features=60, bias=True)\n",
            "  (final): Linear(in_features=60, out_features=10, bias=True)\n",
            ")\n"
          ],
          "name": "stdout"
        }
      ]
    },
    {
      "cell_type": "code",
      "metadata": {
        "id": "FrR_fsLNlyDo",
        "colab_type": "code",
        "colab": {
          "base_uri": "https://localhost:8080/",
          "height": 202
        },
        "outputId": "5af1ee05-22ed-408f-952e-5b7ccff136f4"
      },
      "source": [
        "print(\"Model1 state_dict\") #state_dict is dictionary that maps each layer to its parameter tensor(only layers with learnable parameters and registered buffers[batchnorm mean])\n",
        "for m in model1.state_dict():\n",
        "  print(m,'\\t',model1.state_dict()[m].size())"
      ],
      "execution_count": 34,
      "outputs": [
        {
          "output_type": "stream",
          "text": [
            "Model1 state_dict\n",
            "conv1.weight \t torch.Size([6, 1, 5, 5])\n",
            "conv1.bias \t torch.Size([6])\n",
            "conv2.weight \t torch.Size([12, 6, 5, 5])\n",
            "conv2.bias \t torch.Size([12])\n",
            "lin1.weight \t torch.Size([120, 192])\n",
            "lin1.bias \t torch.Size([120])\n",
            "lin2.weight \t torch.Size([60, 120])\n",
            "lin2.bias \t torch.Size([60])\n",
            "final.weight \t torch.Size([10, 60])\n",
            "final.bias \t torch.Size([10])\n"
          ],
          "name": "stdout"
        }
      ]
    },
    {
      "cell_type": "markdown",
      "metadata": {
        "id": "kObDBkUBoITf",
        "colab_type": "text"
      },
      "source": [
        "# **Training**"
      ]
    },
    {
      "cell_type": "code",
      "metadata": {
        "id": "GI5WnlPumRXf",
        "colab_type": "code",
        "colab": {}
      },
      "source": [
        "class runbuilder():\n",
        "  @staticmethod\n",
        "  def get_runs(params):\n",
        "    runn=[]\n",
        "    Run=namedtuple('Run',params.keys())\n",
        "    for v in product(*params.values()):\n",
        "      runn.append(Run(*v))\n",
        "    return runn\n"
      ],
      "execution_count": 35,
      "outputs": []
    },
    {
      "cell_type": "code",
      "metadata": {
        "id": "v523yvzcqKQr",
        "colab_type": "code",
        "colab": {
          "base_uri": "https://localhost:8080/",
          "height": 639
        },
        "outputId": "da98e88f-bf02-4ca6-8bf6-3bb1d1dd3076"
      },
      "source": [
        "params=OrderedDict(\n",
        "    lr=[0.03,0.01,0.006,0.003],\n",
        "\n",
        ")\n",
        "evaluater=[]\n",
        "for runs in runbuilder.get_runs(params):\n",
        "  model=ModelArchi().to('cuda')\n",
        "  optimizer=optim.Adam(model.parameters(),lr=runs.lr)\n",
        "  \n",
        "  for epoch in range(5):\n",
        "    total_train_loss_epoch=0\n",
        "    total_val_loss_epoch=0\n",
        "    total_correct_epoch=0\n",
        "    train_loader=torch.utils.data.DataLoader(train_set,batch_size=100,shuffle=True)\n",
        "    val_loader=torch.utils.data.DataLoader(val_set,batch_size=100)\n",
        "\n",
        "    #print(train_loader)\n",
        "    #print(val_loader)\n",
        "    for batch in train_loader:\n",
        "      model.train()\n",
        "      tensor_image_batch=batch[0].to('cuda')\n",
        "      tensor_label=batch[1].to('cuda')\n",
        "      pred_batch=model(tensor_image_batch) ##output prediction tensor after forward propagation\n",
        "      loss=F.cross_entropy(pred_batch,tensor_label) #loss is calculated w.r.t. to true labels\n",
        "      optimizer.zero_grad() #it zeroes out the previous stored values of gradients\n",
        "      loss.backward() #calculates the gradients of loss w.r.t layers of network throught  through stored calculations graph\n",
        "      optimizer.step() #decreases the parameters of the layers the network using adam optimizer and calculated gradients\n",
        "\n",
        "      total_train_loss_epoch+=loss.item()*train_loader.batch_size\n",
        "\n",
        "    for batch in val_loader:\n",
        "       model.eval()\n",
        "       with torch.no_grad():\n",
        "\n",
        "         tensor_image_batch=batch[0].to('cuda')\n",
        "         tensor_label=batch[1].to('cuda')\n",
        "         preds_batch=model(tensor_image_batch)\n",
        "         val_loss=F.cross_entropy(preds_batch,tensor_label)\n",
        "\n",
        "         total_val_loss_epoch+=val_loss.item()*val_loader.batch_size\n",
        "         total_correct_epoch+=get_number_correct(preds_batch,tensor_label)\n",
        "\n",
        "    total_train_loss_epoch/=len(train_loader)\n",
        "    total_val_loss_epoch/=len(val_loader)\n",
        "    evaluater.append([runs.lr,epoch,total_train_loss_epoch,total_val_loss_epoch,total_correct_epoch,total_correct_epoch/len(val_loader)])\n",
        "    #print('epoch:',epoch,\" train_loss: \",total_train_loss_epoch,\" validation_loss: \",total_val_loss_epoch)\n",
        "\n",
        "\n",
        "df=pd.DataFrame(evaluater,columns=['Learning_rate','Epoch','Training_loss','Validation_loss','Correct_predictions','Validation_Accuracy'])\n",
        "df\n",
        "\n",
        "\n",
        "## this loop is ran to get the best learning rate, which as seen from below dataframe is 0.03(as it has least validation_loss )"
      ],
      "execution_count": 46,
      "outputs": [
        {
          "output_type": "execute_result",
          "data": {
            "text/html": [
              "<div>\n",
              "<style scoped>\n",
              "    .dataframe tbody tr th:only-of-type {\n",
              "        vertical-align: middle;\n",
              "    }\n",
              "\n",
              "    .dataframe tbody tr th {\n",
              "        vertical-align: top;\n",
              "    }\n",
              "\n",
              "    .dataframe thead th {\n",
              "        text-align: right;\n",
              "    }\n",
              "</style>\n",
              "<table border=\"1\" class=\"dataframe\">\n",
              "  <thead>\n",
              "    <tr style=\"text-align: right;\">\n",
              "      <th></th>\n",
              "      <th>Learning_rate</th>\n",
              "      <th>Epoch</th>\n",
              "      <th>Training_loss</th>\n",
              "      <th>Validation_loss</th>\n",
              "      <th>Correct_predictions</th>\n",
              "      <th>Validation_Accuracy</th>\n",
              "    </tr>\n",
              "  </thead>\n",
              "  <tbody>\n",
              "    <tr>\n",
              "      <th>0</th>\n",
              "      <td>0.030</td>\n",
              "      <td>0</td>\n",
              "      <td>74.665837</td>\n",
              "      <td>33.967834</td>\n",
              "      <td>8941</td>\n",
              "      <td>89.41</td>\n",
              "    </tr>\n",
              "    <tr>\n",
              "      <th>1</th>\n",
              "      <td>0.030</td>\n",
              "      <td>1</td>\n",
              "      <td>32.995027</td>\n",
              "      <td>34.972529</td>\n",
              "      <td>8945</td>\n",
              "      <td>89.45</td>\n",
              "    </tr>\n",
              "    <tr>\n",
              "      <th>2</th>\n",
              "      <td>0.030</td>\n",
              "      <td>2</td>\n",
              "      <td>30.635415</td>\n",
              "      <td>30.561837</td>\n",
              "      <td>9105</td>\n",
              "      <td>91.05</td>\n",
              "    </tr>\n",
              "    <tr>\n",
              "      <th>3</th>\n",
              "      <td>0.030</td>\n",
              "      <td>3</td>\n",
              "      <td>29.252454</td>\n",
              "      <td>31.075842</td>\n",
              "      <td>9077</td>\n",
              "      <td>90.77</td>\n",
              "    </tr>\n",
              "    <tr>\n",
              "      <th>4</th>\n",
              "      <td>0.030</td>\n",
              "      <td>4</td>\n",
              "      <td>29.546107</td>\n",
              "      <td>37.619791</td>\n",
              "      <td>8917</td>\n",
              "      <td>89.17</td>\n",
              "    </tr>\n",
              "    <tr>\n",
              "      <th>5</th>\n",
              "      <td>0.010</td>\n",
              "      <td>0</td>\n",
              "      <td>21.491127</td>\n",
              "      <td>10.684392</td>\n",
              "      <td>9667</td>\n",
              "      <td>96.67</td>\n",
              "    </tr>\n",
              "    <tr>\n",
              "      <th>6</th>\n",
              "      <td>0.010</td>\n",
              "      <td>1</td>\n",
              "      <td>8.519136</td>\n",
              "      <td>9.395359</td>\n",
              "      <td>9729</td>\n",
              "      <td>97.29</td>\n",
              "    </tr>\n",
              "    <tr>\n",
              "      <th>7</th>\n",
              "      <td>0.010</td>\n",
              "      <td>2</td>\n",
              "      <td>7.425323</td>\n",
              "      <td>7.736624</td>\n",
              "      <td>9792</td>\n",
              "      <td>97.92</td>\n",
              "    </tr>\n",
              "    <tr>\n",
              "      <th>8</th>\n",
              "      <td>0.010</td>\n",
              "      <td>3</td>\n",
              "      <td>6.563096</td>\n",
              "      <td>7.572596</td>\n",
              "      <td>9787</td>\n",
              "      <td>97.87</td>\n",
              "    </tr>\n",
              "    <tr>\n",
              "      <th>9</th>\n",
              "      <td>0.010</td>\n",
              "      <td>4</td>\n",
              "      <td>7.151555</td>\n",
              "      <td>7.541704</td>\n",
              "      <td>9826</td>\n",
              "      <td>98.26</td>\n",
              "    </tr>\n",
              "    <tr>\n",
              "      <th>10</th>\n",
              "      <td>0.006</td>\n",
              "      <td>0</td>\n",
              "      <td>22.426324</td>\n",
              "      <td>8.732135</td>\n",
              "      <td>9727</td>\n",
              "      <td>97.27</td>\n",
              "    </tr>\n",
              "    <tr>\n",
              "      <th>11</th>\n",
              "      <td>0.006</td>\n",
              "      <td>1</td>\n",
              "      <td>7.563941</td>\n",
              "      <td>6.599297</td>\n",
              "      <td>9801</td>\n",
              "      <td>98.01</td>\n",
              "    </tr>\n",
              "    <tr>\n",
              "      <th>12</th>\n",
              "      <td>0.006</td>\n",
              "      <td>2</td>\n",
              "      <td>6.013799</td>\n",
              "      <td>6.324089</td>\n",
              "      <td>9817</td>\n",
              "      <td>98.17</td>\n",
              "    </tr>\n",
              "    <tr>\n",
              "      <th>13</th>\n",
              "      <td>0.006</td>\n",
              "      <td>3</td>\n",
              "      <td>4.567303</td>\n",
              "      <td>5.516812</td>\n",
              "      <td>9854</td>\n",
              "      <td>98.54</td>\n",
              "    </tr>\n",
              "    <tr>\n",
              "      <th>14</th>\n",
              "      <td>0.006</td>\n",
              "      <td>4</td>\n",
              "      <td>4.528900</td>\n",
              "      <td>5.343874</td>\n",
              "      <td>9832</td>\n",
              "      <td>98.32</td>\n",
              "    </tr>\n",
              "    <tr>\n",
              "      <th>15</th>\n",
              "      <td>0.003</td>\n",
              "      <td>0</td>\n",
              "      <td>28.980587</td>\n",
              "      <td>9.394436</td>\n",
              "      <td>9709</td>\n",
              "      <td>97.09</td>\n",
              "    </tr>\n",
              "    <tr>\n",
              "      <th>16</th>\n",
              "      <td>0.003</td>\n",
              "      <td>1</td>\n",
              "      <td>8.930731</td>\n",
              "      <td>6.127521</td>\n",
              "      <td>9808</td>\n",
              "      <td>98.08</td>\n",
              "    </tr>\n",
              "    <tr>\n",
              "      <th>17</th>\n",
              "      <td>0.003</td>\n",
              "      <td>2</td>\n",
              "      <td>6.429449</td>\n",
              "      <td>5.459281</td>\n",
              "      <td>9840</td>\n",
              "      <td>98.40</td>\n",
              "    </tr>\n",
              "    <tr>\n",
              "      <th>18</th>\n",
              "      <td>0.003</td>\n",
              "      <td>3</td>\n",
              "      <td>4.986606</td>\n",
              "      <td>4.993813</td>\n",
              "      <td>9847</td>\n",
              "      <td>98.47</td>\n",
              "    </tr>\n",
              "    <tr>\n",
              "      <th>19</th>\n",
              "      <td>0.003</td>\n",
              "      <td>4</td>\n",
              "      <td>4.094921</td>\n",
              "      <td>5.194115</td>\n",
              "      <td>9850</td>\n",
              "      <td>98.50</td>\n",
              "    </tr>\n",
              "  </tbody>\n",
              "</table>\n",
              "</div>"
            ],
            "text/plain": [
              "    Learning_rate  Epoch  ...  Correct_predictions  Validation_Accuracy\n",
              "0           0.030      0  ...                 8941                89.41\n",
              "1           0.030      1  ...                 8945                89.45\n",
              "2           0.030      2  ...                 9105                91.05\n",
              "3           0.030      3  ...                 9077                90.77\n",
              "4           0.030      4  ...                 8917                89.17\n",
              "5           0.010      0  ...                 9667                96.67\n",
              "6           0.010      1  ...                 9729                97.29\n",
              "7           0.010      2  ...                 9792                97.92\n",
              "8           0.010      3  ...                 9787                97.87\n",
              "9           0.010      4  ...                 9826                98.26\n",
              "10          0.006      0  ...                 9727                97.27\n",
              "11          0.006      1  ...                 9801                98.01\n",
              "12          0.006      2  ...                 9817                98.17\n",
              "13          0.006      3  ...                 9854                98.54\n",
              "14          0.006      4  ...                 9832                98.32\n",
              "15          0.003      0  ...                 9709                97.09\n",
              "16          0.003      1  ...                 9808                98.08\n",
              "17          0.003      2  ...                 9840                98.40\n",
              "18          0.003      3  ...                 9847                98.47\n",
              "19          0.003      4  ...                 9850                98.50\n",
              "\n",
              "[20 rows x 6 columns]"
            ]
          },
          "metadata": {
            "tags": []
          },
          "execution_count": 46
        }
      ]
    },
    {
      "cell_type": "code",
      "metadata": {
        "id": "uRgDfi-s0Fpy",
        "colab_type": "code",
        "colab": {
          "base_uri": "https://localhost:8080/",
          "height": 343
        },
        "outputId": "5389bdcb-c1eb-4891-c143-0a1a4b3fb75f"
      },
      "source": [
        "model=ModelArchi().to('cuda')\n",
        "evaluater=[]\n",
        "optimizer=optim.Adam(model.parameters(),lr=0.003)\n",
        "for epoch in range(10): ## After knowing the best learning rate,this loop is used to train the model\n",
        "\n",
        "    total_train_loss_epoch=0\n",
        "    total_correct_epoch=0\n",
        "    train_loader=torch.utils.data.DataLoader(train_set,batch_size=100,shuffle=True)\n",
        "    #val_loader=torch.utils.data.DataLoader(val_set,batch_size=100)\n",
        "\n",
        "    #print(train_loader)\n",
        "    #print(val_loader)\n",
        "    for batch in train_loader:\n",
        "      model.train()\n",
        "      tensor_image_batch=batch[0].to('cuda')\n",
        "      tensor_label=batch[1].to('cuda')\n",
        "      pred_batch=model(tensor_image_batch)\n",
        "      loss=F.cross_entropy(pred_batch,tensor_label)\n",
        "      optimizer.zero_grad()\n",
        "      loss.backward()\n",
        "      optimizer.step()\n",
        "\n",
        "      total_train_loss_epoch+=loss.item()*train_loader.batch_size\n",
        "\n",
        "    total_train_loss_epoch/=len(train_loader)  \n",
        "    evaluater.append([epoch,total_train_loss_epoch])\n",
        "\n",
        "df=pd.DataFrame(evaluater,columns=['Epoch','Training_loss'])\n",
        "\n",
        "model_save_name='mnist_model.pt'\n",
        "path=F\"/content/gdrive/My Drive/{model_save_name}\"\n",
        "torch.save(model.state_dict(),path)\n",
        "df\n",
        "\n",
        "\n",
        "\n",
        "\n",
        "\n"
      ],
      "execution_count": 49,
      "outputs": [
        {
          "output_type": "execute_result",
          "data": {
            "text/html": [
              "<div>\n",
              "<style scoped>\n",
              "    .dataframe tbody tr th:only-of-type {\n",
              "        vertical-align: middle;\n",
              "    }\n",
              "\n",
              "    .dataframe tbody tr th {\n",
              "        vertical-align: top;\n",
              "    }\n",
              "\n",
              "    .dataframe thead th {\n",
              "        text-align: right;\n",
              "    }\n",
              "</style>\n",
              "<table border=\"1\" class=\"dataframe\">\n",
              "  <thead>\n",
              "    <tr style=\"text-align: right;\">\n",
              "      <th></th>\n",
              "      <th>Epoch</th>\n",
              "      <th>Training_loss</th>\n",
              "    </tr>\n",
              "  </thead>\n",
              "  <tbody>\n",
              "    <tr>\n",
              "      <th>0</th>\n",
              "      <td>0</td>\n",
              "      <td>29.387626</td>\n",
              "    </tr>\n",
              "    <tr>\n",
              "      <th>1</th>\n",
              "      <td>1</td>\n",
              "      <td>8.614904</td>\n",
              "    </tr>\n",
              "    <tr>\n",
              "      <th>2</th>\n",
              "      <td>2</td>\n",
              "      <td>6.292410</td>\n",
              "    </tr>\n",
              "    <tr>\n",
              "      <th>3</th>\n",
              "      <td>3</td>\n",
              "      <td>4.772755</td>\n",
              "    </tr>\n",
              "    <tr>\n",
              "      <th>4</th>\n",
              "      <td>4</td>\n",
              "      <td>4.240674</td>\n",
              "    </tr>\n",
              "    <tr>\n",
              "      <th>5</th>\n",
              "      <td>5</td>\n",
              "      <td>3.539188</td>\n",
              "    </tr>\n",
              "    <tr>\n",
              "      <th>6</th>\n",
              "      <td>6</td>\n",
              "      <td>3.253139</td>\n",
              "    </tr>\n",
              "    <tr>\n",
              "      <th>7</th>\n",
              "      <td>7</td>\n",
              "      <td>3.088693</td>\n",
              "    </tr>\n",
              "    <tr>\n",
              "      <th>8</th>\n",
              "      <td>8</td>\n",
              "      <td>2.399933</td>\n",
              "    </tr>\n",
              "    <tr>\n",
              "      <th>9</th>\n",
              "      <td>9</td>\n",
              "      <td>2.443002</td>\n",
              "    </tr>\n",
              "  </tbody>\n",
              "</table>\n",
              "</div>"
            ],
            "text/plain": [
              "   Epoch  Training_loss\n",
              "0      0      29.387626\n",
              "1      1       8.614904\n",
              "2      2       6.292410\n",
              "3      3       4.772755\n",
              "4      4       4.240674\n",
              "5      5       3.539188\n",
              "6      6       3.253139\n",
              "7      7       3.088693\n",
              "8      8       2.399933\n",
              "9      9       2.443002"
            ]
          },
          "metadata": {
            "tags": []
          },
          "execution_count": 49
        }
      ]
    },
    {
      "cell_type": "markdown",
      "metadata": {
        "id": "b56Kl35oHBLD",
        "colab_type": "text"
      },
      "source": [
        "# **Confusion_Matrix**"
      ]
    },
    {
      "cell_type": "markdown",
      "metadata": {
        "id": "SmIEEoRmHVY0",
        "colab_type": "text"
      },
      "source": [
        "**getting predictions**"
      ]
    },
    {
      "cell_type": "code",
      "metadata": {
        "id": "JMQrtUYSG5PR",
        "colab_type": "code",
        "colab": {}
      },
      "source": [
        "def get_all_preds(network,loader):\n",
        "  all_preds=torch.tensor([]).to('cuda')\n",
        " \n",
        "  for batch in loader:\n",
        "    images1=batch[0].to('cuda')\n",
        "    labels1=batch[1].to('cuda')\n",
        "    \n",
        "    preds=network(images1)\n",
        "    all_preds=torch.cat((all_preds,preds),dim=0)\n",
        "    \n",
        "  return all_preds\n",
        "\n"
      ],
      "execution_count": 97,
      "outputs": []
    },
    {
      "cell_type": "code",
      "metadata": {
        "id": "FhdgH2eSI6G4",
        "colab_type": "code",
        "colab": {}
      },
      "source": [
        "prediction_loader=torch.utils.data.DataLoader(train_set1,batch_size=1000)\n",
        "\n",
        "train_preds=get_all_preds(model,prediction_loader)\n"
      ],
      "execution_count": 98,
      "outputs": []
    },
    {
      "cell_type": "code",
      "metadata": {
        "id": "pMaOzTIRQ86u",
        "colab_type": "code",
        "colab": {}
      },
      "source": [
        "preds_correct=get_number_correct(train_preds,train_set1.targets)"
      ],
      "execution_count": 99,
      "outputs": []
    },
    {
      "cell_type": "code",
      "metadata": {
        "id": "GCvZmLj3RrI2",
        "colab_type": "code",
        "colab": {
          "base_uri": "https://localhost:8080/",
          "height": 50
        },
        "outputId": "7c69888d-5b56-4dfd-8a4c-177e90444137"
      },
      "source": [
        "print('total correct:',preds_correct)\n",
        "print('accuracy:',preds_correct/len(train_set1.targets))"
      ],
      "execution_count": 101,
      "outputs": [
        {
          "output_type": "stream",
          "text": [
            "total correct: 59551\n",
            "accuracy: 0.9925166666666667\n"
          ],
          "name": "stdout"
        }
      ]
    },
    {
      "cell_type": "markdown",
      "metadata": {
        "id": "4vLndV7kR0g6",
        "colab_type": "text"
      },
      "source": [
        " **CONFUSION MATRIX**"
      ]
    },
    {
      "cell_type": "code",
      "metadata": {
        "id": "csKzUklRRvRX",
        "colab_type": "code",
        "colab": {}
      },
      "source": [
        "stacked=torch.stack((train_set1.targets,train_preds.to('cpu').argmax(dim=1)),dim=1)"
      ],
      "execution_count": 102,
      "outputs": []
    },
    {
      "cell_type": "code",
      "metadata": {
        "id": "z-wDtYkXSJIg",
        "colab_type": "code",
        "colab": {}
      },
      "source": [
        "cmt=torch.zeros(10,10,dtype=torch.int32)"
      ],
      "execution_count": 104,
      "outputs": []
    },
    {
      "cell_type": "code",
      "metadata": {
        "id": "DF8Jf2oDR-X9",
        "colab_type": "code",
        "colab": {
          "base_uri": "https://localhost:8080/",
          "height": 185
        },
        "outputId": "c976183a-442a-4829-a8b9-3b8f66daee9e"
      },
      "source": [
        "for p in stacked:\n",
        "  true,predicted=p.tolist()\n",
        "  cmt[true,predicted]=cmt[true,predicted]+1\n",
        "cmt"
      ],
      "execution_count": 105,
      "outputs": [
        {
          "output_type": "execute_result",
          "data": {
            "text/plain": [
              "tensor([[5900,    0,    1,    0,    0,    1,   16,    0,    5,    0],\n",
              "        [   1, 6732,    1,    1,    0,    0,    1,    5,    1,    0],\n",
              "        [   3,   12, 5871,   23,    6,    0,    0,   20,   18,    5],\n",
              "        [   2,    2,    3, 6077,    0,   15,    0,    2,   18,   12],\n",
              "        [   0,    8,    0,    0, 5804,    2,    3,    2,    2,   21],\n",
              "        [   2,    2,    0,    5,    0, 5371,   20,    0,   18,    3],\n",
              "        [   4,    2,    1,    1,    1,   12, 5887,    0,   10,    0],\n",
              "        [   2,   23,    3,   18,    2,    4,    0, 6200,    4,    9],\n",
              "        [   1,    5,    3,    1,    0,    5,    2,    0, 5829,    5],\n",
              "        [  10,    5,    0,    0,   32,    3,    0,    9,   10, 5880]], dtype=torch.int32)"
            ]
          },
          "metadata": {
            "tags": []
          },
          "execution_count": 105
        }
      ]
    },
    {
      "cell_type": "code",
      "metadata": {
        "id": "CkNY4A84SEAV",
        "colab_type": "code",
        "colab": {
          "base_uri": "https://localhost:8080/",
          "height": 312
        },
        "outputId": "3fea2e4e-ccb4-413f-8552-e2535006033a"
      },
      "source": [
        "skplt.metrics.plot_confusion_matrix(train_set1.targets,train_preds.to('cpu').detach().numpy().argmax(1), normalize=True)"
      ],
      "execution_count": 108,
      "outputs": [
        {
          "output_type": "execute_result",
          "data": {
            "text/plain": [
              "<matplotlib.axes._subplots.AxesSubplot at 0x7fbfbb069898>"
            ]
          },
          "metadata": {
            "tags": []
          },
          "execution_count": 108
        },
        {
          "output_type": "display_data",
          "data": {
            "image/png": "[encoded data removed]",
            "text/plain": [
              "<Figure size 432x288 with 2 Axes>"
            ]
          },
          "metadata": {
            "tags": [],
            "needs_background": "light"
          }
        }
      ]
    },
    {
      "cell_type": "markdown",
      "metadata": {
        "id": "lcT5AVqbU4u7",
        "colab_type": "text"
      },
      "source": [
        "# **MAKING PREDICTIONS ON TEST SET**"
      ]
    },
    {
      "cell_type": "code",
      "metadata": {
        "id": "hNfgteerT-7G",
        "colab_type": "code",
        "colab": {
          "base_uri": "https://localhost:8080/",
          "height": 366,
          "referenced_widgets": [
            "83ada066ea9047798c8ee48dedc4ca42",
            "57567b2395094779920a67a78cbce9bd",
            "e3c17eabddbb45968c2a4bc69cde91aa",
            "4288c406ad3e40889c5ca87b5bfae57c",
            "7be1f1248f044d1ba9cfa5ad87871de1",
            "67eb68a6be194ff494891396eae89e83",
            "a5b8c509ec604036be549290933e521f",
            "ed1d37a4fa1346c3a941fc4d22a346e7",
            "0cd0989f35484ec99a7fbb431ada0786",
            "a72dd55d6ab740acaa5eb3511ad6f28d",
            "8e37648596324ad1a8392c0715fe24c1",
            "5843450366c04269828584221de00ebf",
            "162d93a2ab90417c92049c510e46783d",
            "c40f68d27ceb4f60acc2dc095ad1dc59",
            "98adc757bd7549a19f7f4a4a92b7ffed",
            "4e595d23b958476c9bce5bc5bbc14f08",
            "44d8e3c4e76d4fb78c114d67bc3f1278",
            "d9748a9b73a94214938e09ad68b59c97",
            "6bc8317bd950471cb5a6e339db003200",
            "5654fc97e5dc42ed8979f853c9cdb05b",
            "75d1cb8fe63a4e1d9c303dae3e9f7d56",
            "ce70a0dc49ab4a6d805a8c91091b6794",
            "5ae5f72ef2bf4368a695a015bd814168",
            "474309f8a2164cf2a4a6dd9c795618fa",
            "cd6e71153cec436c812adf3b65ac602d",
            "33cc2d962a6e4d38ae9282edbf5a6d74",
            "488423165a704b8dab761604621bb75d",
            "e7648a0745254274a5e391222c2b7ab3",
            "96e2e90a50a5428cbd1fb5fa1fb3f880",
            "f2a67f2b7c734e5ba9d1ddcfea88966e",
            "361808834c8342f585d7a6baaa78ddb7",
            "48b6effd5a0c4fa093204a42726d5838"
          ]
        },
        "outputId": "0e5cfdc0-721e-4107-d537-266e43cb4cc0"
      },
      "source": [
        "testset = torchvision.datasets.MNIST(root='./data', train=False,\n",
        "                                       download=True, transform=transforms.Compose([transforms.ToTensor()]))\n",
        "testloader = torch.utils.data.DataLoader(testset, batch_size=100,\n",
        "                                         shuffle=False, num_workers=1)"
      ],
      "execution_count": 110,
      "outputs": [
        {
          "output_type": "stream",
          "text": [
            "Downloading http://yann.lecun.com/exdb/mnist/train-images-idx3-ubyte.gz to ./data/MNIST/raw/train-images-idx3-ubyte.gz\n"
          ],
          "name": "stdout"
        },
        {
          "output_type": "display_data",
          "data": {
            "application/vnd.jupyter.widget-view+json": {
              "model_id": "83ada066ea9047798c8ee48dedc4ca42",
              "version_minor": 0,
              "version_major": 2
            },
            "text/plain": [
              "HBox(children=(FloatProgress(value=1.0, bar_style='info', max=1.0), HTML(value='')))"
            ]
          },
          "metadata": {
            "tags": []
          }
        },
        {
          "output_type": "stream",
          "text": [
            "Extracting ./data/MNIST/raw/train-images-idx3-ubyte.gz to ./data/MNIST/raw\n",
            "Downloading http://yann.lecun.com/exdb/mnist/train-labels-idx1-ubyte.gz to ./data/MNIST/raw/train-labels-idx1-ubyte.gz\n",
            "\n"
          ],
          "name": "stdout"
        },
        {
          "output_type": "display_data",
          "data": {
            "application/vnd.jupyter.widget-view+json": {
              "model_id": "0cd0989f35484ec99a7fbb431ada0786",
              "version_minor": 0,
              "version_major": 2
            },
            "text/plain": [
              "HBox(children=(FloatProgress(value=1.0, bar_style='info', max=1.0), HTML(value='')))"
            ]
          },
          "metadata": {
            "tags": []
          }
        },
        {
          "output_type": "stream",
          "text": [
            "Extracting ./data/MNIST/raw/train-labels-idx1-ubyte.gz to ./data/MNIST/raw\n",
            "Downloading http://yann.lecun.com/exdb/mnist/t10k-images-idx3-ubyte.gz to ./data/MNIST/raw/t10k-images-idx3-ubyte.gz\n"
          ],
          "name": "stdout"
        },
        {
          "output_type": "display_data",
          "data": {
            "application/vnd.jupyter.widget-view+json": {
              "model_id": "44d8e3c4e76d4fb78c114d67bc3f1278",
              "version_minor": 0,
              "version_major": 2
            },
            "text/plain": [
              "HBox(children=(FloatProgress(value=1.0, bar_style='info', max=1.0), HTML(value='')))"
            ]
          },
          "metadata": {
            "tags": []
          }
        },
        {
          "output_type": "stream",
          "text": [
            "Extracting ./data/MNIST/raw/t10k-images-idx3-ubyte.gz to ./data/MNIST/raw\n",
            "Downloading http://yann.lecun.com/exdb/mnist/t10k-labels-idx1-ubyte.gz to ./data/MNIST/raw/t10k-labels-idx1-ubyte.gz\n"
          ],
          "name": "stdout"
        },
        {
          "output_type": "display_data",
          "data": {
            "application/vnd.jupyter.widget-view+json": {
              "model_id": "cd6e71153cec436c812adf3b65ac602d",
              "version_minor": 0,
              "version_major": 2
            },
            "text/plain": [
              "HBox(children=(FloatProgress(value=1.0, bar_style='info', max=1.0), HTML(value='')))"
            ]
          },
          "metadata": {
            "tags": []
          }
        },
        {
          "output_type": "stream",
          "text": [
            "Extracting ./data/MNIST/raw/t10k-labels-idx1-ubyte.gz to ./data/MNIST/raw\n",
            "Processing...\n",
            "Done!\n"
          ],
          "name": "stdout"
        },
        {
          "output_type": "stream",
          "text": [
            "/pytorch/torch/csrc/utils/tensor_numpy.cpp:141: UserWarning: The given NumPy array is not writeable, and PyTorch does not support non-writeable tensors. This means you can write to the underlying (supposedly non-writeable) NumPy array using the tensor. You may want to copy the array to protect its data or make it writeable before converting it to a tensor. This type of warning will be suppressed for the rest of this program.\n"
          ],
          "name": "stderr"
        }
      ]
    },
    {
      "cell_type": "code",
      "metadata": {
        "id": "nxsqwEfkSdzu",
        "colab_type": "code",
        "colab": {
          "base_uri": "https://localhost:8080/",
          "height": 34
        },
        "outputId": "8e989a88-b1e2-411d-c6db-42162eab1042"
      },
      "source": [
        "correct = 0\n",
        "total = 0\n",
        "model=model.to('cpu')\n",
        "with torch.no_grad():\n",
        "    for data in testloader:\n",
        "        images, labels = data\n",
        "        outputs = model(images)\n",
        "        _, predicted = torch.max(outputs.data, 1)\n",
        "        total += labels.size(0)\n",
        "        correct += (predicted == labels).sum().item()\n",
        "\n",
        "print('Accuracy of the network on the 10000 test images: %d %%' % (\n",
        "    100 * correct / total))"
      ],
      "execution_count": 112,
      "outputs": [
        {
          "output_type": "stream",
          "text": [
            "Accuracy of the network on the 10000 test images: 98 %\n"
          ],
          "name": "stdout"
        }
      ]
    },
    {
      "cell_type": "code",
      "metadata": {
        "id": "Rx6nxDxhUuNy",
        "colab_type": "code",
        "colab": {}
      },
      "source": [
        ""
      ],
      "execution_count": null,
      "outputs": []
    }
  ]
}